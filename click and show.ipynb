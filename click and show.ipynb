{
 "cells": [
  {
   "cell_type": "code",
   "execution_count": 1,
   "metadata": {},
   "outputs": [],
   "source": [
    "import cv2 "
   ]
  },
  {
   "cell_type": "code",
   "execution_count": 2,
   "metadata": {},
   "outputs": [],
   "source": [
    "def click_event(event, x, y, flags, params): \n",
    "\n",
    "\t# checking for left mouse clicks \n",
    "\tif event == cv2.EVENT_LBUTTONDOWN: \n",
    "\n",
    "\t\t# displaying the coordinates \n",
    "\t\t# on the Shell \n",
    "\t\tprint(x, ' ', y) \n",
    "\n",
    "\t\t# displaying the coordinates \n",
    "\t\t# on the image window \n",
    "\t\tfont = cv2.FONT_HERSHEY_SIMPLEX \n",
    "\t\tcv2.putText(img, str(x) + ',' +\n",
    "\t\t\t\t\tstr(y), (x,y), font, \n",
    "\t\t\t\t\t1, (255, 0, 0), 2) \n",
    "\t\tcv2.imshow('image', img) \n",
    "\n",
    "\t# checking for right mouse clicks\t \n",
    "\tif event==cv2.EVENT_RBUTTONDOWN: \n",
    "\n",
    "\t\t# displaying the coordinates \n",
    "\t\t# on the Shell \n",
    "\t\tprint(x, ' ', y) \n",
    "\n",
    "\t\t# displaying the coordinates \n",
    "\t\t# on the image window \n",
    "\t\tfont = cv2.FONT_HERSHEY_SIMPLEX \n",
    "\t\tb = img[y, x, 0] \n",
    "\t\tg = img[y, x, 1] \n",
    "\t\tr = img[y, x, 2] \n",
    "\t\tcv2.putText(img, str(b) + ',' +\n",
    "\t\t\t\t\tstr(g) + ',' + str(r), \n",
    "\t\t\t\t\t(x,y), font, 1, \n",
    "\t\t\t\t\t(255, 255, 0), 2) \n",
    "\t\tcv2.imshow('image', img) "
   ]
  },
  {
   "cell_type": "code",
   "execution_count": 3,
   "metadata": {},
   "outputs": [
    {
     "name": "stdout",
     "output_type": "stream",
     "text": [
      "715   653\n",
      "647   647\n",
      "874   572\n",
      "1120   549\n",
      "370   544\n",
      "199   531\n",
      "98   525\n",
      "39   504\n",
      "74   411\n",
      "300   343\n",
      "854   425\n",
      "915   373\n",
      "1062   304\n",
      "1039   211\n",
      "1084   137\n"
     ]
    }
   ],
   "source": [
    "if __name__==\"__main__\": \n",
    "\n",
    "\t# reading the image \n",
    "\timg = cv2.imread('C:\\\\Users\\\\Dino\\\\Desktop\\\\wick rise\\\\images for 10-25 micro take 1\\\\printed_2800.jpg', 1) \n",
    "\n",
    "\t# displaying the image \n",
    "\tcv2.imshow('image', img) \n",
    "\n",
    "\t# setting mouse hadler for the image \n",
    "\t# and calling the click_event() function \n",
    "\tcv2.setMouseCallback('image', click_event) \n",
    "\n",
    "\t# wait for a key to be pressed to exit \n",
    "\tcv2.waitKey(0) \n",
    "\n",
    "\t# close the window \n",
    "\tcv2.destroyAllWindows() "
   ]
  },
  {
   "cell_type": "code",
   "execution_count": null,
   "metadata": {},
   "outputs": [],
   "source": []
  }
 ],
 "metadata": {
  "kernelspec": {
   "display_name": "Python 3",
   "language": "python",
   "name": "python3"
  },
  "language_info": {
   "codemirror_mode": {
    "name": "ipython",
    "version": 3
   },
   "file_extension": ".py",
   "mimetype": "text/x-python",
   "name": "python",
   "nbconvert_exporter": "python",
   "pygments_lexer": "ipython3",
   "version": "3.7.3"
  }
 },
 "nbformat": 4,
 "nbformat_minor": 2
}
