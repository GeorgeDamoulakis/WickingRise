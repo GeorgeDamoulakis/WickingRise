{
 "cells": [
  {
   "cell_type": "code",
   "execution_count": 2,
   "metadata": {},
   "outputs": [
    {
     "name": "stdout",
     "output_type": "stream",
     "text": [
      "The original list is : ['40', '6', '7', '2', '100']\n",
      "The resultant sorted list : ['2', '6', '7', '40', '100']\n"
     ]
    }
   ],
   "source": [
    "# Python3 code to demonstrate \n",
    "# numeric string sorting \n",
    "# using sorted () + key with (len (x), x) \n",
    "\n",
    "# initializing list \n",
    "test_list = [ '40', '6', '7', '2', '100'] \n",
    "\n",
    "# printing original list \n",
    "print (\"The original list is : \" + str (test_list)) \n",
    "\n",
    "# using sorted () + key with (len (x), x) \n",
    "# numeric string sorting \n",
    "res = sorted (test_list, key = lambda x: (len (x), x)) \n",
    "\n",
    "# printing result \n",
    "print (\"The resultant sorted list : \" + str (res)) \n"
   ]
  },
  {
   "cell_type": "code",
   "execution_count": null,
   "metadata": {},
   "outputs": [],
   "source": []
  }
 ],
 "metadata": {
  "kernelspec": {
   "display_name": "Python 3",
   "language": "python",
   "name": "python3"
  },
  "language_info": {
   "codemirror_mode": {
    "name": "ipython",
    "version": 3
   },
   "file_extension": ".py",
   "mimetype": "text/x-python",
   "name": "python",
   "nbconvert_exporter": "python",
   "pygments_lexer": "ipython3",
   "version": "3.7.3"
  }
 },
 "nbformat": 4,
 "nbformat_minor": 2
}
