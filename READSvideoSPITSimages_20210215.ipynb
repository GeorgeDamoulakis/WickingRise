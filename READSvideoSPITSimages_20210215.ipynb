{
 "cells": [
  {
   "cell_type": "code",
   "execution_count": null,
   "metadata": {},
   "outputs": [],
   "source": [
    "import cv2\n",
    "import numpy as np\n",
    "from matplotlib import pyplot as plt"
   ]
  },
  {
   "cell_type": "code",
   "execution_count": null,
   "metadata": {},
   "outputs": [],
   "source": [
    "videoFile = (\"C:\\\\Users\\\\Dino\\\\Desktop\\\\wick rise\\\\videos\\\\325mesh, take2.avi\")"
   ]
  },
  {
   "cell_type": "code",
   "execution_count": null,
   "metadata": {},
   "outputs": [],
   "source": [
    "def addLines(image):\n",
    "    color = (2, 205, 120)\n",
    "    thickness = 1\n",
    "    horizontal_line_1 = cv2.line(image, (0, 100), (600, 100), color, thickness)\n",
    "    horizontal_line_2 = cv2.line(horizontal_line_1, (0, 150), (600, 150), color, thickness)\n",
    "    horizontal_line_3 = cv2.line(horizontal_line_2, (0, 200), (600, 200), color, thickness)\n",
    "    horizontal_line_4 = cv2.line(horizontal_line_3, (0, 250), (600, 250), color, thickness)\n",
    "    horizontal_line_5 = cv2.line(horizontal_line_4, (0, 300), (600, 300), color, thickness)\n",
    "    horizontal_line_6 = cv2.line(horizontal_line_5, (0, 300), (600, 300), color, thickness)\n",
    "    horizontal_line_7 = cv2.line(horizontal_line_6, (0, 350), (600, 350), color, thickness)\n",
    "    horizontal_line_8 = cv2.line(horizontal_line_6, (0, 400), (600, 400), color, thickness)\n",
    "    horizontal_line_9 = cv2.line(horizontal_line_6, (0, 450), (600, 450), color, thickness)\n",
    "    horizontal_line_10 = cv2.line(horizontal_line_6, (0, 500), (600, 500), color, thickness)\n",
    "    horizontal_line_11 = cv2.line(horizontal_line_6, (0, 550), (600, 550), color, thickness)\n",
    "    horizontal_line_12 = cv2.line(horizontal_line_6, (0, 600), (600, 600), color, thickness)\n",
    "    horizontal_line_13 = cv2.line(horizontal_line_6, (0, 650), (600, 650), color, thickness)\n",
    "\n",
    "    cv2.putText(horizontal_line_13, \"1 cm\", (300,600), cv2.FONT_HERSHEY_SIMPLEX,  1, (2, 205, 120, 255), 1)\n",
    "    cv2.putText(horizontal_line_13, \"3 cm\", (300,500), cv2.FONT_HERSHEY_SIMPLEX,  1, (2, 205, 120, 255), 1)\n",
    "    cv2.putText(horizontal_line_13, \"5 cm\", (300,400), cv2.FONT_HERSHEY_SIMPLEX,  1, (2, 205, 120, 255), 1)\n",
    "    cv2.putText(horizontal_line_13, \"7 cm\", (300,300), cv2.FONT_HERSHEY_SIMPLEX,  1, (2, 205, 120, 255), 1)\n",
    "    cv2.putText(horizontal_line_13, \"9 cm\", (300,200), cv2.FONT_HERSHEY_SIMPLEX,  1, (2, 205, 120, 255), 1)\n",
    "    cv2.putText(horizontal_line_13, \"11 cm\", (300,100), cv2.FONT_HERSHEY_SIMPLEX,  1, (2, 205, 120, 255), 1)\n",
    "    return horizontal_line_13"
   ]
  },
  {
   "cell_type": "code",
   "execution_count": null,
   "metadata": {},
   "outputs": [],
   "source": [
    "cap = cv2.VideoCapture(videoFile)\n",
    "frameRate = cap.get(5) #frame rate\n",
    "print(\"the frame rate is\", frameRate)\n",
    "\n",
    "while(cap.isOpened()):\n",
    "    frameId = cap.get(1) #current frame number\n",
    "    ret, frame = cap.read()\n",
    "    print(frameId)\n",
    "    if (ret != True):\n",
    "        break\n",
    "    if (frameId % frameRate == 0):   #prints out every 1 seconds\n",
    "        print(\"one printed\")\n",
    "        filename = (f\"printed_{frameId}.jpg\" )\n",
    "        cv2.imwrite(filename, addLines(frame))\n",
    "        #break\n",
    "cap.release()\n",
    "print(\"Done!\")"
   ]
  },
  {
   "cell_type": "code",
   "execution_count": null,
   "metadata": {},
   "outputs": [],
   "source": []
  }
 ],
 "metadata": {
  "kernelspec": {
   "display_name": "Python 3",
   "language": "python",
   "name": "python3"
  },
  "language_info": {
   "codemirror_mode": {
    "name": "ipython",
    "version": 3
   },
   "file_extension": ".py",
   "mimetype": "text/x-python",
   "name": "python",
   "nbconvert_exporter": "python",
   "pygments_lexer": "ipython3",
   "version": "3.7.3"
  }
 },
 "nbformat": 4,
 "nbformat_minor": 2
}
